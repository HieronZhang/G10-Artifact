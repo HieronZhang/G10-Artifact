{
 "cells": [
  {
   "cell_type": "code",
   "execution_count": null,
   "metadata": {},
   "outputs": [],
   "source": [
    "import torch\n",
    "from transformers import BertModel\n",
    "\n",
    "# Load the pre-trained BERT model\n",
    "model = BertModel.from_pretrained(\"bert-base-uncased\")\n",
    "model.to(\"cuda\")"
   ]
  },
  {
   "cell_type": "code",
   "execution_count": null,
   "metadata": {},
   "outputs": [],
   "source": [
    "torch._dynamo.reset()\n",
    "model_compiled = torch.compile(\n",
    "        model,\n",
    "        options={\n",
    "            \"trace.enabled\": True,\n",
    "        },\n",
    ")"
   ]
  },
  {
   "cell_type": "code",
   "execution_count": null,
   "metadata": {},
   "outputs": [],
   "source": [
    "EPOCHS = 10\n",
    "LEARNING_RATE = 1e-7\n",
    "optimizer = torch.optim.Adam(params=model.parameters(), lr=LEARNING_RATE)\n",
    "loss_function = torch.nn.CrossEntropyLoss()"
   ]
  },
  {
   "cell_type": "code",
   "execution_count": null,
   "metadata": {},
   "outputs": [],
   "source": [
    "input_tensor = model.dummy_inputs[\"input_ids\"].clone().to(\"cuda\")\n",
    "labels = input_tensor.clone().to(\"cuda\")\n",
    "targets = input_tensor.clone().to(\"cuda\")\n",
    "\n",
    "model_compiled.train()\n",
    "\n",
    "for epoch in range(2):\n",
    "    optimizer.zero_grad()\n",
    "    outputs = model_compiled(input_tensor, labels)\n",
    "    loss = loss_function(outputs.pooler_output, outputs.pooler_output)\n",
    "    loss.backward()\n",
    "    optimizer.step()\n",
    "\n",
    "# Save the pre-trained model\n",
    "# model.save_pretrained(\"my_bert_model\")"
   ]
  },
  {
   "cell_type": "code",
   "execution_count": null,
   "metadata": {},
   "outputs": [],
   "source": []
  }
 ],
 "metadata": {
  "kernelspec": {
   "display_name": "base",
   "language": "python",
   "name": "python3"
  },
  "language_info": {
   "codemirror_mode": {
    "name": "ipython",
    "version": 3
   },
   "file_extension": ".py",
   "mimetype": "text/x-python",
   "name": "python",
   "nbconvert_exporter": "python",
   "pygments_lexer": "ipython3",
   "version": "3.11.4"
  }
 },
 "nbformat": 4,
 "nbformat_minor": 2
}
