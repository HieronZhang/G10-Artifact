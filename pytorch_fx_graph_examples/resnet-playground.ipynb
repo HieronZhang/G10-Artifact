{
 "cells": [
  {
   "cell_type": "code",
   "execution_count": null,
   "metadata": {},
   "outputs": [],
   "source": [
    "import torch\n",
    "import torchvision"
   ]
  },
  {
   "cell_type": "markdown",
   "metadata": {},
   "source": [
    "Initialize DNN model and compile using TorchInductor"
   ]
  },
  {
   "cell_type": "code",
   "execution_count": null,
   "metadata": {},
   "outputs": [],
   "source": [
    "model = torchvision.models.resnet50(pretrained=True).to(\"cuda\")"
   ]
  },
  {
   "cell_type": "code",
   "execution_count": null,
   "metadata": {},
   "outputs": [],
   "source": [
    "torch._dynamo.reset()\n",
    "resnet50_compiled = torch.compile(\n",
    "        model,\n",
    "        options={\n",
    "            \"trace.enabled\": True,\n",
    "        },\n",
    ")"
   ]
  },
  {
   "cell_type": "markdown",
   "metadata": {},
   "source": [
    "Set up the training loop"
   ]
  },
  {
   "cell_type": "code",
   "execution_count": null,
   "metadata": {},
   "outputs": [],
   "source": [
    "# for this example, we generate one random sample\n",
    "inputs = torch.randn(64, 3, 224, 224).to(\"cuda\")\n",
    "labels = torch.randn(64, 1000).to(\"cuda\")\n",
    "\n",
    "# initialize the loss calculation and optimizer\n",
    "learning_rate = 0.001\n",
    "criterion = torch.nn.CrossEntropyLoss()\n",
    "optimizer = torch.optim.Adam(resnet50_compiled.parameters(), lr=learning_rate)"
   ]
  },
  {
   "cell_type": "markdown",
   "metadata": {},
   "source": [
    "Wrap optimizer.step() in torch.compile()"
   ]
  },
  {
   "cell_type": "code",
   "execution_count": null,
   "metadata": {},
   "outputs": [],
   "source": [
    "def optimizer_step_fn(optimizer):\n",
    "    '''Return torch.compile'd version of optimizer.step()'''\n",
    "    def f():\n",
    "        optimizer.step()\n",
    "    return torch.compile(\n",
    "        f,\n",
    "        options={\n",
    "            \"trace.enabled\": True,\n",
    "        },\n",
    "    )\n",
    "\n",
    "optimizer_step = optimizer_step_fn(optimizer)"
   ]
  },
  {
   "cell_type": "markdown",
   "metadata": {},
   "source": [
    "(unused) Wrap forward() and loss computation into single graph"
   ]
  },
  {
   "cell_type": "code",
   "execution_count": null,
   "metadata": {},
   "outputs": [],
   "source": [
    "# def forward_fn(model_fn, loss_fn):\n",
    "#     '''Return torch.compile'd version of forward pass and loss calculation'''\n",
    "#     def f(inputs, labels):\n",
    "#         outputs = model_fn(inputs)\n",
    "#         loss = loss_fn(outputs, labels)\n",
    "#         return outputs, loss\n",
    "#     return torch.compile(\n",
    "#         f,\n",
    "#         options={\n",
    "#             \"trace.enabled\": True,\n",
    "#         },\n",
    "#     )\n",
    "# forward = forward_fn(resnet50_compiled, criterion)"
   ]
  },
  {
   "cell_type": "markdown",
   "metadata": {},
   "source": [
    "Run one training iteration"
   ]
  },
  {
   "cell_type": "code",
   "execution_count": null,
   "metadata": {},
   "outputs": [],
   "source": [
    "# Zero out the optimizer\n",
    "optimizer.zero_grad()\n",
    "\n",
    "# Forward pass\n",
    "outputs = resnet50_compiled(inputs)\n",
    "loss = criterion(outputs, labels) # torch.nn.CrossEntropyLoss()\n",
    "# outputs, loss = forward(inputs, labels)\n",
    "\n",
    "# Backward pass\n",
    "loss.backward()\n",
    "\n",
    "# parameter update\n",
    "optimizer_step()"
   ]
  },
  {
   "cell_type": "markdown",
   "metadata": {},
   "source": [
    "Example operator profiling loop"
   ]
  },
  {
   "cell_type": "code",
   "execution_count": null,
   "metadata": {},
   "outputs": [],
   "source": [
    "import time\n",
    "num_iter = 1000\n",
    "device = \"cuda\"\n",
    "\n",
    "# allocate dummy inputs\n",
    "primals_321 = torch.randn(64, 3, 224, 224).to(device)\n",
    "primals_1 = torch.randn(64, 3, 7, 7).to(device)\n",
    "\n",
    "t0 = time.time()\n",
    "\n",
    "# profile the operator\n",
    "for _ in range(num_iter):\n",
    "    convolution = torch.ops.aten.convolution.default(primals_321, primals_1, None, [2, 2], [3, 3], [1, 1], False, [0, 0], 1)\n",
    "torch.cuda.current_stream().synchronize()\n",
    "\n",
    "t1 = time.time()\n",
    "\n",
    "print(f\"Time taken: {(t1 - t0) / num_iter * 1000} ms\")"
   ]
  }
 ],
 "metadata": {
  "kernelspec": {
   "display_name": "base",
   "language": "python",
   "name": "python3"
  },
  "language_info": {
   "codemirror_mode": {
    "name": "ipython",
    "version": 3
   },
   "file_extension": ".py",
   "mimetype": "text/x-python",
   "name": "python",
   "nbconvert_exporter": "python",
   "pygments_lexer": "ipython3",
   "version": "3.11.4"
  }
 },
 "nbformat": 4,
 "nbformat_minor": 2
}
